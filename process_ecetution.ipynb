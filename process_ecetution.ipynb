{
 "cells": [
  {
   "cell_type": "code",
   "execution_count": 1,
   "metadata": {},
   "outputs": [],
   "source": [
    "from data.video_processor import VideoProcessor\n",
    "\n",
    "vp = VideoProcessor(sequence_path=\"datasets/EPFL\",\n",
    "                    sequence_name=\"basketball\",\n",
    "                    video_format='.avi')"
   ]
  },
  {
   "cell_type": "code",
   "execution_count": 2,
   "metadata": {},
   "outputs": [
    {
     "name": "stdout",
     "output_type": "stream",
     "text": [
      "Processing match5-c2.avi\n",
      "End of video file.\n",
      "Frame extraction took 21.194504 sec\n",
      "Processing match5-c0.avi\n",
      "End of video file.\n",
      "Frame extraction took 21.350928 sec\n",
      "Processing match5-c1.avi\n",
      "End of video file.\n",
      "Frame extraction took 26.923799 sec\n",
      "Processing match5-c3.avi\n",
      "End of video file.\n",
      "Frame extraction took 23.645416 sec\n"
     ]
    }
   ],
   "source": [
    "vp.store_frames()"
   ]
  },
  {
   "cell_type": "code",
   "execution_count": null,
   "metadata": {},
   "outputs": [],
   "source": []
  }
 ],
 "metadata": {
  "kernelspec": {
   "display_name": "mcmt",
   "language": "python",
   "name": "python3"
  },
  "language_info": {
   "codemirror_mode": {
    "name": "ipython",
    "version": 3
   },
   "file_extension": ".py",
   "mimetype": "text/x-python",
   "name": "python",
   "nbconvert_exporter": "python",
   "pygments_lexer": "ipython3",
   "version": "3.11.4"
  },
  "orig_nbformat": 4
 },
 "nbformat": 4,
 "nbformat_minor": 2
}
