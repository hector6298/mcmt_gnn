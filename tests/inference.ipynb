{
 "cells": [
  {
   "cell_type": "code",
   "execution_count": 1,
   "metadata": {},
   "outputs": [],
   "source": [
    "%load_ext autoreload\n",
    "%autoreload 2"
   ]
  },
  {
   "cell_type": "code",
   "execution_count": 50,
   "metadata": {},
   "outputs": [],
   "source": [
    "import sys\n",
    "import os.path as osp\n",
    "sys.path.insert(1, osp.abspath('..'))\n",
    "\n",
    "import torch\n",
    "import yaml\n",
    "import torch.nn.functional as F\n",
    "import torch_geometric.transforms as T\n",
    "from torch_geometric.loader import NeighborLoader, DataLoader\n",
    "from modules.inference.inference_module import InferenceModule, InferenceEngineAbstract\n",
    "from models.mcmt.rgnn import MOTMPNet\n",
    "from modules.torch_dataset.sequence_graph_dataset import SequenceGraphDataset"
   ]
  },
  {
   "cell_type": "code",
   "execution_count": 3,
   "metadata": {},
   "outputs": [
    {
     "data": {
      "text/plain": [
       "<All keys matched successfully>"
      ]
     },
     "execution_count": 3,
     "metadata": {},
     "output_type": "execute_result"
    }
   ],
   "source": [
    "with open(\"/Users/hectormejia/Documents/TFM/mcmt_gnn/config/training_rgcnn.yml\", \"r\") as config_file:\n",
    "    config = yaml.safe_load(config_file)\n",
    "    gnn_arch = config[\"gnn_arch\"]\n",
    "\n",
    "model_state = torch.load(\"/Users/hectormejia/Documents/TFM/mcmt_gnn/results/checkpoints/checkpoint_100.pt\")\n",
    "model = MOTMPNet(gnn_arch)\n",
    "model.load_state_dict(model_state['model'])\n"
   ]
  },
  {
   "cell_type": "code",
   "execution_count": 4,
   "metadata": {},
   "outputs": [
    {
     "name": "stdout",
     "output_type": "stream",
     "text": [
      "torch.Size([2, 75227])\n"
     ]
    }
   ],
   "source": [
    "data = torch.load(\"/Users/hectormejia/Documents/TFM/mcmt_gnn/datasets/AIC22/graphs/sequence_graph_S02.pt\")\n",
    "inf_module = InferenceModule(model, num_cameras=4)\n",
    "preds = inf_module(data)"
   ]
  },
  {
   "cell_type": "code",
   "execution_count": 5,
   "metadata": {},
   "outputs": [
    {
     "data": {
      "text/plain": [
       "tensor(557)"
      ]
     },
     "execution_count": 5,
     "metadata": {},
     "output_type": "execute_result"
    }
   ],
   "source": [
    "preds.sum()"
   ]
  },
  {
   "cell_type": "code",
   "execution_count": null,
   "metadata": {},
   "outputs": [],
   "source": [
    "val_dataset = SequenceGraphDataset(sequence_path_prefix=\"/Users/hectormejia/Documents/TFM/mcmt_gnn/datasets/AIC22\", \n",
    "                                sequence_names=['S02'], \n",
    "                                annotations_filename='gt.txt',\n",
    "                                transform=T.ToUndirected())\n",
    "val_dataloader = DataLoader(val_dataset, batch_size=1, shuffle=False)#, num_objects_per_graph=10)"
   ]
  },
  {
   "cell_type": "code",
   "execution_count": 51,
   "metadata": {},
   "outputs": [],
   "source": [
    "class InferenceEngine(InferenceEngineAbstract):\n",
    "    def setup_validation_step(self):\n",
    "        def validation_step(engine, batch):\n",
    "            return self.model(batch), batch.edge_labels\n",
    "        return validation_step"
   ]
  },
  {
   "cell_type": "code",
   "execution_count": 52,
   "metadata": {},
   "outputs": [
    {
     "name": "stdout",
     "output_type": "stream",
     "text": [
      "torch.Size([2, 150454])\n",
      "tensor([0, 0, 0,  ..., 0, 0, 1])\n",
      "Inference Results - Accuracy: 0.9949486221702314 - Precision: 0.6386946386946387 - Recall: 0.5490981963927856 - \n"
     ]
    },
    {
     "name": "stderr",
     "output_type": "stream",
     "text": [
      "/Users/hectormejia/Documents/TFM/mcmt_gnn/modules/inference/postprocessing.py:282: UserWarning: To copy construct from a tensor, it is recommended to use sourceTensor.clone().detach() or sourceTensor.clone().detach().requires_grad_(True), rather than torch.tensor(sourceTensor).\n",
      "  whole_edges_prediction = split_clusters(G, id_pred, whole_edges_prediction, preds_prob[:,1], num_cameras, data.num_nodes)\n"
     ]
    }
   ],
   "source": [
    "InferenceEngine(inf_module, val_dataloader, \"results\",[\"Accuracy\", \"Precision\", \"Recall\"]).run_validation()"
   ]
  },
  {
   "cell_type": "code",
   "execution_count": null,
   "metadata": {},
   "outputs": [],
   "source": []
  }
 ],
 "metadata": {
  "kernelspec": {
   "display_name": "mcmt_env",
   "language": "python",
   "name": "python3"
  },
  "language_info": {
   "codemirror_mode": {
    "name": "ipython",
    "version": 3
   },
   "file_extension": ".py",
   "mimetype": "text/x-python",
   "name": "python",
   "nbconvert_exporter": "python",
   "pygments_lexer": "ipython3",
   "version": "3.9.18"
  },
  "orig_nbformat": 4
 },
 "nbformat": 4,
 "nbformat_minor": 2
}
