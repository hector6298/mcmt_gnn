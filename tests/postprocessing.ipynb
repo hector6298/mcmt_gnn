{
 "cells": [
  {
   "cell_type": "code",
   "execution_count": 1,
   "metadata": {},
   "outputs": [],
   "source": [
    "import sys\n",
    "import os\n",
    "import os.path as osp\n",
    "import pandas as pd\n",
    "\n",
    "import torch\n",
    "sys.path.insert(1, osp.abspath('../'))\n",
    "torch.cuda.empty_cache()"
   ]
  },
  {
   "cell_type": "code",
   "execution_count": 2,
   "metadata": {},
   "outputs": [],
   "source": [
    "exp_11 = \"979156837763893073\"\n",
    "exp_8 = \"454575397835495809\"\n",
    "exp_10 = \"246461092875715692\"\n",
    "exp_9 = \"244926936006304990\""
   ]
  },
  {
   "cell_type": "code",
   "execution_count": 3,
   "metadata": {},
   "outputs": [],
   "source": [
    "import yaml\n",
    "runs = os.listdir(\"/home/hmv/tfm/mcmt_gnn/mlruns/454575397835495809/\")\n",
    "runs.remove(\"meta.yaml\")\n",
    "runs.remove(\"tags\")\n",
    "run_name = None\n",
    "for run in runs:\n",
    "    run_path = osp.join(\"/home/hmv/tfm/mcmt_gnn/mlruns/454575397835495809/\", run)\n",
    "    with open(osp.join(run_path, \"meta.yaml\"), 'r') as meta:\n",
    "        \n",
    "        yaml_file = yaml.safe_load(meta)\n",
    "        if yaml_file[\"run_name\"] == \"tuning_block_8_v3_trial_778_500\":\n",
    "            run_name = yaml_file[\"run_name\"]\n",
    "            preds_prob = pd.read_json(osp.join(run_path, \"artifacts\", \"prediction_scores.txt\"),  orient=\"split\")\n",
    "            preds_prob = torch.tensor(preds_prob.values)"
   ]
  },
  {
   "cell_type": "code",
   "execution_count": 4,
   "metadata": {},
   "outputs": [],
   "source": [
    "from modules.torch_dataset.object_graph_reid_precomp import ObjectGraphREIDPrecompDataset\n",
    "from modules.data_processor.annotations_processor import AnnotationsProcessor\n",
    "import torch_geometric.transforms as T\n",
    "\n",
    "val_dataset = ObjectGraphREIDPrecompDataset(sequence_path_prefix=\"/home/hmv/tfm/mcmt_gnn/datasets/AIC20\",\n",
    "                                            sequence_names=[\"S02\"],\n",
    "                                            annotations_filename=\"mtsc_tnt_ssd512_roi_filtered.txt\",\n",
    "                                            num_ids_per_graph=-1,\n",
    "                                            return_dataframes=True,\n",
    "                                            graph_transform=T.ToUndirected())\n",
    "\n",
    "graph, node_df, edge_df = val_dataset[0]\n",
    "\n",
    "\n",
    "# Start the multi-camera association\n",
    "data_df = AnnotationsProcessor(sequence_path=\"/home/hmv/tfm/mcmt_gnn/datasets/AIC20\", \n",
    "                            annotations_filename=\"mtsc_tnt_ssd512_roi_filtered.txt\")\\\n",
    "                            .consolidate_annotations([\"S02\"], [\"frame\", \"camera\"])\n",
    "\n",
    "gt_df = AnnotationsProcessor(sequence_path=\"/home/hmv/tfm/mcmt_gnn/datasets/AIC20\", \n",
    "                            annotations_filename=\"gt_roi_filtered.txt\")\\\n",
    "                            .consolidate_annotations([\"S02\"], [\"frame\", \"camera\"])"
   ]
  },
  {
   "cell_type": "code",
   "execution_count": 5,
   "metadata": {},
   "outputs": [
    {
     "name": "stderr",
     "output_type": "stream",
     "text": [
      "/home/hmv/tfm/mcmt_gnn/modules/inference/postprocessing.py:347: UserWarning: To copy construct from a tensor, it is recommended to use sourceTensor.clone().detach() or sourceTensor.clone().detach().requires_grad_(True), rather than torch.tensor(sourceTensor).\n",
      "  return id_pred, torch.tensor(whole_edges_prediction)\n"
     ]
    }
   ],
   "source": [
    "from modules.inference.postprocessing import postprocessing, remove_dets_with_one_camera\n",
    "from modules.inference.preprocessing import filter_dets_outside_frame_bounds\n",
    "predictions = torch.argmax(preds_prob, dim=1).cpu()\n",
    "\n",
    "edge_list = graph.edge_index.cpu().numpy()\n",
    "\n",
    "# Connected components output\n",
    "id_pred, predictions = postprocessing(4, \n",
    "                                        preds_prob,\n",
    "                                        predictions,\n",
    "                                        edge_list,\n",
    "                                        graph.cpu(),\n",
    "                                        True,\n",
    "                                        False,\n",
    "                                        False,\n",
    "                                        False)\n",
    "\n",
    "# Add old IDs as separate column to inspect\n",
    "data_df['id_old'] = data_df.id\n",
    "\n",
    "# Generate tracking dataframe\n",
    "for n in range(len(graph.x)):\n",
    "    id_new = int(id_pred[n])\n",
    "    cam_id = node_df.camera[n]\n",
    "    id_old = node_df.object_id[n]\n",
    "\n",
    "    # Assign the labels from the connected components to the detections df\n",
    "    data_df.loc[(data_df['id_old'] == id_old) & \n",
    "                    (data_df['camera'] == cam_id),'id'] = id_new\n",
    "\n",
    "# If required, remove detections that go beyond the frame limits\n",
    "\n",
    "data_df = filter_dets_outside_frame_bounds(data_df, \n",
    "                                            1920, \n",
    "                                            1080)\n",
    "gt_df = filter_dets_outside_frame_bounds(gt_df, \n",
    "                                        1920, \n",
    "                                        1080)\n",
    "\n",
    "# This is only for the single camera tracking estimates, not gorund truth\n",
    "data_df = remove_dets_with_one_camera(data_df)"
   ]
  },
  {
   "cell_type": "code",
   "execution_count": 6,
   "metadata": {},
   "outputs": [
    {
     "name": "stdout",
     "output_type": "stream",
     "text": [
      "[6 7 8 9] [6 7 8 9]\n"
     ]
    }
   ],
   "source": [
    "from modules.inference.postprocessing import fix_annotation_frames\n",
    "import motmetrics as mm\n",
    "\n",
    "data_df.camera = data_df.camera.apply(lambda cam: int(cam.replace('c', '')))\n",
    "gt_df.camera = gt_df.camera.apply(lambda cam: int(cam.replace('c', '')))\n",
    "\n",
    "# Avoid colisions in the frame index\n",
    "gt_df, pred_df = fix_annotation_frames(gt_df, data_df)\n",
    "\n",
    "# Setting column names as motmetrics requires it\n",
    "gt_df = gt_df.rename(columns={'frame': 'FrameId',\n",
    "                                'xmin': 'X', \n",
    "                                'ymin': 'Y', \n",
    "                                'width': 'Width', \n",
    "                                'height': 'Height',\n",
    "                                'id': 'Id'})\n",
    "\n",
    "pred_df = pred_df.rename(columns={'frame': 'FrameId',\n",
    "                                'xmin': 'X', \n",
    "                                'ymin': 'Y', \n",
    "                                'width': 'Width', \n",
    "                                'height': 'Height',\n",
    "                                'id': 'Id'})\n",
    "\n",
    "# Setting frame id and id as index since motmetrics requires it\n",
    "gt_df = gt_df.set_index(['FrameId', 'Id'])\n",
    "pred_df = pred_df.set_index(['FrameId', 'Id'])\n",
    "\n",
    "# Compute metrics using Pymotmetrics\n",
    "mh = mm.metrics.create()\n",
    "accumulator = mm.utils.compare_to_groundtruth(gt_df, pred_df, 'iou', distth=0.8)\n",
    "metrics=[*mm.metrics.motchallenge_metrics, *['num_frames','idfp','idfn','idtp']]\n",
    "summary = mh.compute(accumulator, metrics=metrics, name='MultiCam')"
   ]
  },
  {
   "cell_type": "code",
   "execution_count": 7,
   "metadata": {},
   "outputs": [
    {
     "data": {
      "text/html": [
       "<div>\n",
       "<style scoped>\n",
       "    .dataframe tbody tr th:only-of-type {\n",
       "        vertical-align: middle;\n",
       "    }\n",
       "\n",
       "    .dataframe tbody tr th {\n",
       "        vertical-align: top;\n",
       "    }\n",
       "\n",
       "    .dataframe thead th {\n",
       "        text-align: right;\n",
       "    }\n",
       "</style>\n",
       "<table border=\"1\" class=\"dataframe\">\n",
       "  <thead>\n",
       "    <tr style=\"text-align: right;\">\n",
       "      <th></th>\n",
       "      <th>idf1</th>\n",
       "      <th>idp</th>\n",
       "      <th>idr</th>\n",
       "      <th>recall</th>\n",
       "      <th>precision</th>\n",
       "      <th>num_unique_objects</th>\n",
       "      <th>mostly_tracked</th>\n",
       "      <th>partially_tracked</th>\n",
       "      <th>mostly_lost</th>\n",
       "      <th>num_false_positives</th>\n",
       "      <th>...</th>\n",
       "      <th>num_fragmentations</th>\n",
       "      <th>mota</th>\n",
       "      <th>motp</th>\n",
       "      <th>num_transfer</th>\n",
       "      <th>num_ascend</th>\n",
       "      <th>num_migrate</th>\n",
       "      <th>num_frames</th>\n",
       "      <th>idfp</th>\n",
       "      <th>idfn</th>\n",
       "      <th>idtp</th>\n",
       "    </tr>\n",
       "  </thead>\n",
       "  <tbody>\n",
       "    <tr>\n",
       "      <th>MultiCam</th>\n",
       "      <td>0.789889</td>\n",
       "      <td>0.727053</td>\n",
       "      <td>0.870437</td>\n",
       "      <td>0.941767</td>\n",
       "      <td>0.782234</td>\n",
       "      <td>145</td>\n",
       "      <td>132</td>\n",
       "      <td>9</td>\n",
       "      <td>4</td>\n",
       "      <td>4984</td>\n",
       "      <td>...</td>\n",
       "      <td>77</td>\n",
       "      <td>0.679064</td>\n",
       "      <td>0.470899</td>\n",
       "      <td>50</td>\n",
       "      <td>1</td>\n",
       "      <td>23</td>\n",
       "      <td>7647</td>\n",
       "      <td>6212.0</td>\n",
       "      <td>2463.0</td>\n",
       "      <td>16547.0</td>\n",
       "    </tr>\n",
       "  </tbody>\n",
       "</table>\n",
       "<p>1 rows × 22 columns</p>\n",
       "</div>"
      ],
      "text/plain": [
       "              idf1       idp       idr    recall  precision  \\\n",
       "MultiCam  0.789889  0.727053  0.870437  0.941767   0.782234   \n",
       "\n",
       "          num_unique_objects  mostly_tracked  partially_tracked  mostly_lost  \\\n",
       "MultiCam                 145             132                  9            4   \n",
       "\n",
       "          num_false_positives  ...  num_fragmentations      mota      motp  \\\n",
       "MultiCam                 4984  ...                  77  0.679064  0.470899   \n",
       "\n",
       "          num_transfer  num_ascend  num_migrate  num_frames    idfp    idfn  \\\n",
       "MultiCam            50           1           23        7647  6212.0  2463.0   \n",
       "\n",
       "             idtp  \n",
       "MultiCam  16547.0  \n",
       "\n",
       "[1 rows x 22 columns]"
      ]
     },
     "execution_count": 7,
     "metadata": {},
     "output_type": "execute_result"
    }
   ],
   "source": [
    "summary"
   ]
  },
  {
   "cell_type": "code",
   "execution_count": 8,
   "metadata": {},
   "outputs": [
    {
     "data": {
      "image/png": "[encoded data removed]",
      "text/plain": [
       "<Figure size 1000x500 with 1 Axes>"
      ]
     },
     "metadata": {},
     "output_type": "display_data"
    }
   ],
   "source": [
    "import matplotlib.pyplot as plt\n",
    "import numpy as np\n",
    "\n",
    "import seaborn as sns\n",
    "from matplotlib import rcParams\n",
    "\n",
    "# Use a built-in font similar to LaTeX\n",
    "rcParams['font.family'] = 'serif'\n",
    "rcParams['font.sans-serif'] = ['DejaVu Sans']\n",
    "\n",
    "\n",
    "plt.figure(figsize=(10, 5))\n",
    "# create data \n",
    "x = np.arange(4) \n",
    "on_on = [83.49, 78.26, 89.65] \n",
    "on_off = [81.37, 75.16, 89.27]\n",
    "off_on = [83.49, 78.26, 89.65] \n",
    "off_off = [78.99, 72.71, 87.04]\n",
    "\n",
    "scores = np.array([on_on, on_off, off_on, off_off]).T\n",
    "width = 0.2\n",
    "  \n",
    "# plot data in grouped manner of bar type \n",
    "plt.bar(x-0.2, scores[0], width, color='cyan') \n",
    "plt.bar(x, scores[1], width, color='green') \n",
    "plt.bar(x+0.2, scores[2], width, color='orange') \n",
    "\n",
    "# Annotate the bars with their values\n",
    "for i in range(len(x)):\n",
    "    plt.text(x[i] - 0.2, scores[0, i] + 1, str(scores[0, i]), ha='center', va='bottom', color='black')\n",
    "    plt.text(x[i], scores[1, i] + 1, str(scores[1, i]), ha='center', va='bottom', color='black')\n",
    "    plt.text(x[i] + 0.2, scores[2, i] + 1, str(scores[2, i]), ha='center', va='bottom', color='black')\n",
    "\n",
    "\n",
    "plt.xticks(x, ['P:ON - S:ON', 'P:ON - S:OFF', 'P:OFF - S:ON', 'P:OFF - S:OFF']) \n",
    "plt.xlabel(\"Postprocessing modes\") \n",
    "plt.ylabel(\"Scores\") \n",
    "plt.legend([\"IDF1\", \"IDP\", \"IDR\"]) \n",
    "plt.tight_layout()\n",
    "plt.show() "
   ]
  }
 ],
 "metadata": {
  "kernelspec": {
   "display_name": "mcmt_gnn",
   "language": "python",
   "name": "python3"
  },
  "language_info": {
   "codemirror_mode": {
    "name": "ipython",
    "version": 3
   },
   "file_extension": ".py",
   "mimetype": "text/x-python",
   "name": "python",
   "nbconvert_exporter": "python",
   "pygments_lexer": "ipython3",
   "version": "3.10.13"
  }
 },
 "nbformat": 4,
 "nbformat_minor": 2
}
