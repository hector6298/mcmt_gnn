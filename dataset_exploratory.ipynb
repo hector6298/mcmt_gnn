{
 "cells": [
  {
   "cell_type": "code",
   "execution_count": 1,
   "metadata": {},
   "outputs": [
    {
     "name": "stdout",
     "output_type": "stream",
     "text": [
      "Intel MKL WARNING: Support of Intel(R) Streaming SIMD Extensions 4.2 (Intel(R) SSE4.2) enabled only processors has been deprecated. Intel oneAPI Math Kernel Library 2025.0 will require Intel(R) Advanced Vector Extensions (Intel(R) AVX) instructions.\n",
      "Intel MKL WARNING: Support of Intel(R) Streaming SIMD Extensions 4.2 (Intel(R) SSE4.2) enabled only processors has been deprecated. Intel oneAPI Math Kernel Library 2025.0 will require Intel(R) Advanced Vector Extensions (Intel(R) AVX) instructions.\n"
     ]
    },
    {
     "name": "stderr",
     "output_type": "stream",
     "text": [
      "/Users/hectormejia/opt/anaconda3/envs/mcmt_env/lib/python3.9/site-packages/torch_geometric/typing.py:18: UserWarning: An issue occurred while importing 'pyg-lib'. Disabling its usage. Stacktrace: dlopen(/Users/hectormejia/opt/anaconda3/envs/mcmt_env/lib/python3.9/site-packages/libpyg.so, 0x0006): Library not loaded: /usr/local/opt/python@3.10/Frameworks/Python.framework/Versions/3.10/Python\n",
      "  Referenced from: <593A788E-3AC3-3D15-B6FD-54CA34BBA4D5> /Users/hectormejia/opt/anaconda3/envs/mcmt_env/lib/python3.9/site-packages/libpyg.so\n",
      "  Reason: tried: '/usr/local/opt/python@3.10/Frameworks/Python.framework/Versions/3.10/Python' (no such file), '/System/Volumes/Preboot/Cryptexes/OS/usr/local/opt/python@3.10/Frameworks/Python.framework/Versions/3.10/Python' (no such file), '/usr/local/opt/python@3.10/Frameworks/Python.framework/Versions/3.10/Python' (no such file), '/Library/Frameworks/Python.framework/Versions/3.10/Python' (no such file), '/System/Library/Frameworks/Python.framework/Versions/3.10/Python' (no such file, not in dyld cache)\n",
      "  warnings.warn(f\"An issue occurred while importing 'pyg-lib'. \"\n",
      "/Users/hectormejia/opt/anaconda3/envs/mcmt_env/lib/python3.9/site-packages/torch_geometric/typing.py:42: UserWarning: An issue occurred while importing 'torch-sparse'. Disabling its usage. Stacktrace: dlopen(/Users/hectormejia/opt/anaconda3/envs/mcmt_env/lib/python3.9/site-packages/libpyg.so, 0x0006): Library not loaded: /usr/local/opt/python@3.10/Frameworks/Python.framework/Versions/3.10/Python\n",
      "  Referenced from: <593A788E-3AC3-3D15-B6FD-54CA34BBA4D5> /Users/hectormejia/opt/anaconda3/envs/mcmt_env/lib/python3.9/site-packages/libpyg.so\n",
      "  Reason: tried: '/usr/local/opt/python@3.10/Frameworks/Python.framework/Versions/3.10/Python' (no such file), '/System/Volumes/Preboot/Cryptexes/OS/usr/local/opt/python@3.10/Frameworks/Python.framework/Versions/3.10/Python' (no such file), '/usr/local/opt/python@3.10/Frameworks/Python.framework/Versions/3.10/Python' (no such file), '/Library/Frameworks/Python.framework/Versions/3.10/Python' (no such file), '/System/Library/Frameworks/Python.framework/Versions/3.10/Python' (no such file, not in dyld cache)\n",
      "  warnings.warn(f\"An issue occurred while importing 'torch-sparse'. \"\n"
     ]
    },
    {
     "ename": "AttributeError",
     "evalue": "'SequenceGraphDataset' object has no attribute 'sequence_names'",
     "output_type": "error",
     "traceback": [
      "\u001b[0;31m---------------------------------------------------------------------------\u001b[0m",
      "\u001b[0;31mAttributeError\u001b[0m                            Traceback (most recent call last)",
      "Cell \u001b[0;32mIn[1], line 3\u001b[0m\n\u001b[1;32m      1\u001b[0m \u001b[39mfrom\u001b[39;00m \u001b[39mtorch_dataset\u001b[39;00m\u001b[39m.\u001b[39;00m\u001b[39msequence_graph_dataset\u001b[39;00m \u001b[39mimport\u001b[39;00m SequenceGraphDataset\n\u001b[0;32m----> 3\u001b[0m dataset \u001b[39m=\u001b[39m SequenceGraphDataset(sequence_path_prefix\u001b[39m=\u001b[39;49m\u001b[39m'\u001b[39;49m\u001b[39mdatasets/AIC20\u001b[39;49m\u001b[39m'\u001b[39;49m, \n\u001b[1;32m      4\u001b[0m                                 sequence_names\u001b[39m=\u001b[39;49m[\u001b[39m'\u001b[39;49m\u001b[39mS01\u001b[39;49m\u001b[39m'\u001b[39;49m, \u001b[39m'\u001b[39;49m\u001b[39mS03\u001b[39;49m\u001b[39m'\u001b[39;49m, \u001b[39m'\u001b[39;49m\u001b[39mS04\u001b[39;49m\u001b[39m'\u001b[39;49m], \n\u001b[1;32m      5\u001b[0m                                 annotations_filename\u001b[39m=\u001b[39;49m\u001b[39m'\u001b[39;49m\u001b[39mgt.txt\u001b[39;49m\u001b[39m'\u001b[39;49m)\n\u001b[1;32m      7\u001b[0m \u001b[39mprint\u001b[39m(\u001b[39mlen\u001b[39m(dataset))  \u001b[39m# Number of processed graphs\u001b[39;00m\n\u001b[1;32m      8\u001b[0m data \u001b[39m=\u001b[39m dataset[\u001b[39m0\u001b[39m]     \u001b[39m# Access the first processed graph\u001b[39;00m\n",
      "File \u001b[0;32m~/Documents/TFM/mcmt_gnn/torch_dataset/sequence_graph_dataset.py:22\u001b[0m, in \u001b[0;36mSequenceGraphDataset.__init__\u001b[0;34m(self, sequence_path_prefix, sequence_names, annotations_filename, transform, pre_transform)\u001b[0m\n\u001b[1;32m     21\u001b[0m \u001b[39mdef\u001b[39;00m \u001b[39m__init__\u001b[39m(\u001b[39mself\u001b[39m, sequence_path_prefix, sequence_names, annotations_filename, transform\u001b[39m=\u001b[39m\u001b[39mNone\u001b[39;00m, pre_transform\u001b[39m=\u001b[39m\u001b[39mNone\u001b[39;00m):\n\u001b[0;32m---> 22\u001b[0m     \u001b[39msuper\u001b[39;49m(SequenceGraphDataset, \u001b[39mself\u001b[39;49m)\u001b[39m.\u001b[39;49m\u001b[39m__init__\u001b[39;49m(sequence_path_prefix, transform, pre_transform)\n\u001b[1;32m     24\u001b[0m     \u001b[39mself\u001b[39m\u001b[39m.\u001b[39msequence_path_prefix \u001b[39m=\u001b[39m sequence_path_prefix\n\u001b[1;32m     25\u001b[0m     \u001b[39mself\u001b[39m\u001b[39m.\u001b[39msequence_names \u001b[39m=\u001b[39m sequence_names\n",
      "File \u001b[0;32m~/opt/anaconda3/envs/mcmt_env/lib/python3.9/site-packages/torch_geometric/data/dataset.py:97\u001b[0m, in \u001b[0;36mDataset.__init__\u001b[0;34m(self, root, transform, pre_transform, pre_filter, log)\u001b[0m\n\u001b[1;32m     94\u001b[0m     \u001b[39mself\u001b[39m\u001b[39m.\u001b[39m_download()\n\u001b[1;32m     96\u001b[0m \u001b[39mif\u001b[39;00m \u001b[39mself\u001b[39m\u001b[39m.\u001b[39mhas_process:\n\u001b[0;32m---> 97\u001b[0m     \u001b[39mself\u001b[39;49m\u001b[39m.\u001b[39;49m_process()\n",
      "File \u001b[0;32m~/opt/anaconda3/envs/mcmt_env/lib/python3.9/site-packages/torch_geometric/data/dataset.py:223\u001b[0m, in \u001b[0;36mDataset._process\u001b[0;34m(self)\u001b[0m\n\u001b[1;32m    216\u001b[0m \u001b[39mif\u001b[39;00m osp\u001b[39m.\u001b[39mexists(f) \u001b[39mand\u001b[39;00m torch\u001b[39m.\u001b[39mload(f) \u001b[39m!=\u001b[39m _repr(\u001b[39mself\u001b[39m\u001b[39m.\u001b[39mpre_filter):\n\u001b[1;32m    217\u001b[0m     warnings\u001b[39m.\u001b[39mwarn(\n\u001b[1;32m    218\u001b[0m         \u001b[39m\"\u001b[39m\u001b[39mThe `pre_filter` argument differs from the one used in \u001b[39m\u001b[39m\"\u001b[39m\n\u001b[1;32m    219\u001b[0m         \u001b[39m\"\u001b[39m\u001b[39mthe pre-processed version of this dataset. If you want to \u001b[39m\u001b[39m\"\u001b[39m\n\u001b[1;32m    220\u001b[0m         \u001b[39m\"\u001b[39m\u001b[39mmake use of another pre-fitering technique, make sure to \u001b[39m\u001b[39m\"\u001b[39m\n\u001b[1;32m    221\u001b[0m         \u001b[39m\"\u001b[39m\u001b[39mdelete \u001b[39m\u001b[39m'\u001b[39m\u001b[39m{self.processed_dir}\u001b[39;00m\u001b[39m'\u001b[39m\u001b[39m first\u001b[39m\u001b[39m\"\u001b[39m)\n\u001b[0;32m--> 223\u001b[0m \u001b[39mif\u001b[39;00m files_exist(\u001b[39mself\u001b[39;49m\u001b[39m.\u001b[39;49mprocessed_paths):  \u001b[39m# pragma: no cover\u001b[39;00m\n\u001b[1;32m    224\u001b[0m     \u001b[39mreturn\u001b[39;00m\n\u001b[1;32m    226\u001b[0m \u001b[39mif\u001b[39;00m \u001b[39mself\u001b[39m\u001b[39m.\u001b[39mlog \u001b[39mand\u001b[39;00m \u001b[39m'\u001b[39m\u001b[39mpytest\u001b[39m\u001b[39m'\u001b[39m \u001b[39mnot\u001b[39;00m \u001b[39min\u001b[39;00m sys\u001b[39m.\u001b[39mmodules:\n",
      "File \u001b[0;32m~/opt/anaconda3/envs/mcmt_env/lib/python3.9/site-packages/torch_geometric/data/dataset.py:182\u001b[0m, in \u001b[0;36mDataset.processed_paths\u001b[0;34m(self)\u001b[0m\n\u001b[1;32m    178\u001b[0m \u001b[39m@property\u001b[39m\n\u001b[1;32m    179\u001b[0m \u001b[39mdef\u001b[39;00m \u001b[39mprocessed_paths\u001b[39m(\u001b[39mself\u001b[39m) \u001b[39m-\u001b[39m\u001b[39m>\u001b[39m List[\u001b[39mstr\u001b[39m]:\n\u001b[1;32m    180\u001b[0m \u001b[39m    \u001b[39m\u001b[39mr\u001b[39m\u001b[39m\"\"\"The absolute filepaths that must be present in order to skip\u001b[39;00m\n\u001b[1;32m    181\u001b[0m \u001b[39m    processing.\"\"\"\u001b[39;00m\n\u001b[0;32m--> 182\u001b[0m     files \u001b[39m=\u001b[39m \u001b[39mself\u001b[39;49m\u001b[39m.\u001b[39;49mprocessed_file_names\n\u001b[1;32m    183\u001b[0m     \u001b[39m# Prevent a common source of error in which `file_names` are not\u001b[39;00m\n\u001b[1;32m    184\u001b[0m     \u001b[39m# defined as a property.\u001b[39;00m\n\u001b[1;32m    185\u001b[0m     \u001b[39mif\u001b[39;00m \u001b[39misinstance\u001b[39m(files, Callable):\n",
      "File \u001b[0;32m~/Documents/TFM/mcmt_gnn/torch_dataset/sequence_graph_dataset.py:34\u001b[0m, in \u001b[0;36mSequenceGraphDataset.processed_file_names\u001b[0;34m(self)\u001b[0m\n\u001b[1;32m     30\u001b[0m \u001b[39m@property\u001b[39m\n\u001b[1;32m     31\u001b[0m \u001b[39mdef\u001b[39;00m \u001b[39mprocessed_file_names\u001b[39m(\u001b[39mself\u001b[39m):\n\u001b[1;32m     32\u001b[0m \u001b[39m    \u001b[39m\u001b[39m\"\"\"The complete path to the processed graph files\"\"\"\u001b[39;00m\n\u001b[1;32m     33\u001b[0m     \u001b[39mreturn\u001b[39;00m [osp\u001b[39m.\u001b[39mjoin(\u001b[39mself\u001b[39m\u001b[39m.\u001b[39msequence_path_prefix, \u001b[39m\"\u001b[39m\u001b[39mgraphs\u001b[39m\u001b[39m\"\u001b[39m, \u001b[39mf\u001b[39m\u001b[39m'\u001b[39m\u001b[39msequence_graph_S\u001b[39m\u001b[39m{\u001b[39;00mi\u001b[39m.\u001b[39mzfill(\u001b[39m2\u001b[39m)\u001b[39m}\u001b[39;00m\u001b[39m.pt\u001b[39m\u001b[39m'\u001b[39m) \n\u001b[0;32m---> 34\u001b[0m             \u001b[39mfor\u001b[39;00m i \u001b[39min\u001b[39;00m \u001b[39mself\u001b[39;49m\u001b[39m.\u001b[39;49msequence_names]\n",
      "\u001b[0;31mAttributeError\u001b[0m: 'SequenceGraphDataset' object has no attribute 'sequence_names'"
     ]
    }
   ],
   "source": [
    "from torch_dataset.sequence_graph_dataset import SequenceGraphDataset\n",
    "\n",
    "dataset = SequenceGraphDataset(sequence_path_prefix='datasets/AIC20', \n",
    "                                sequence_names=['S01', 'S03', 'S04'], \n",
    "                                annotations_filename='gt.txt')\n",
    "\n",
    "print(len(dataset))  # Number of processed graphs\n",
    "data = dataset[0]     # Access the first processed graph"
   ]
  },
  {
   "cell_type": "code",
   "execution_count": 18,
   "metadata": {},
   "outputs": [],
   "source": [
    "import torch\n",
    "emb = torch.load(\"datasets/AIC20/embeddings/S01/gt.txt/node/c001/138.pt\")"
   ]
  },
  {
   "cell_type": "code",
   "execution_count": 26,
   "metadata": {},
   "outputs": [
    {
     "name": "stdout",
     "output_type": "stream",
     "text": [
      "torch.Size([768])\n",
      "torch.Size([768])\n"
     ]
    }
   ],
   "source": [
    "for e in emb:\n",
    "    print(e[1:].size())"
   ]
  },
  {
   "cell_type": "code",
   "execution_count": 10,
   "metadata": {},
   "outputs": [
    {
     "name": "stdout",
     "output_type": "stream",
     "text": [
      "frame        138\n",
      "id             8\n",
      "xmin         396\n",
      "ymin         372\n",
      "width        379\n",
      "height       156\n",
      "lost           1\n",
      "occluded      -1\n",
      "generated     -1\n",
      "label         -1\n",
      "xmax         775\n",
      "ymax         528\n",
      "Name: 92, dtype: int64\n",
      "frame         138\n",
      "id              9\n",
      "xmin          568\n",
      "ymin          492\n",
      "width         702\n",
      "height        273\n",
      "lost            1\n",
      "occluded       -1\n",
      "generated      -1\n",
      "label          -1\n",
      "xmax         1270\n",
      "ymax          765\n",
      "Name: 93, dtype: int64\n"
     ]
    }
   ],
   "source": [
    "import pandas as pd\n",
    "df = pd.read_csv(\"datasets/AIC20/annotations/S01/c001/gt.txt\")\n",
    "df[df.frame == 138]\n",
    "for _, row in df[df.frame == 138].iterrows():\n",
    "    print(row)"
   ]
  },
  {
   "cell_type": "code",
   "execution_count": 6,
   "metadata": {},
   "outputs": [
    {
     "data": {
      "text/plain": [
       "Index([  56,   57,   58,   59,   60,   61,   62,   63,   64,   65,\n",
       "       ...\n",
       "       1950, 1950, 1951, 1951, 1952, 1952, 1953, 1953, 1954, 1955],\n",
       "      dtype='int64', name='frame', length=2946)"
      ]
     },
     "execution_count": 6,
     "metadata": {},
     "output_type": "execute_result"
    }
   ],
   "source": [
    "df.index"
   ]
  },
  {
   "cell_type": "code",
   "execution_count": 6,
   "metadata": {},
   "outputs": [
    {
     "name": "stdout",
     "output_type": "stream",
     "text": [
      "unloaded parameters: <All keys matched successfully>\n",
      "SwinTransformer(\n",
      "  (patch_embed): PatchEmbed(\n",
      "    (adap_padding): AdaptivePadding()\n",
      "    (projection): Conv2d(3, 96, kernel_size=(4, 4), stride=(4, 4))\n",
      "    (norm): LayerNorm((96,), eps=1e-05, elementwise_affine=True)\n",
      "  )\n",
      "  (drop_after_pos): Dropout(p=0.0, inplace=False)\n",
      "  (stages): ModuleList(\n",
      "    (0): SwinBlockSequence(\n",
      "      (blocks): ModuleList(\n",
      "        (0-1): 2 x SwinBlock(\n",
      "          (norm1): LayerNorm((96,), eps=1e-05, elementwise_affine=True)\n",
      "          (attn): ShiftWindowMSA(\n",
      "            (w_msa): WindowMSA(\n",
      "              (qkv): Linear(in_features=96, out_features=288, bias=True)\n",
      "              (attn_drop): Dropout(p=0.0, inplace=False)\n",
      "              (proj): Linear(in_features=96, out_features=96, bias=True)\n",
      "              (proj_drop): Dropout(p=0.0, inplace=False)\n",
      "              (softmax): Softmax(dim=-1)\n",
      "            )\n",
      "            (drop): DropPath()\n",
      "          )\n",
      "          (norm2): LayerNorm((96,), eps=1e-05, elementwise_affine=True)\n",
      "          (ffn): FFN(\n",
      "            (activate): GELU()\n",
      "            (layers): Sequential(\n",
      "              (0): Sequential(\n",
      "                (0): Linear(in_features=96, out_features=384, bias=True)\n",
      "                (1): GELU()\n",
      "                (2): Dropout(p=0.0, inplace=False)\n",
      "              )\n",
      "              (1): Linear(in_features=384, out_features=96, bias=True)\n",
      "              (2): Dropout(p=0.0, inplace=False)\n",
      "            )\n",
      "            (dropout_layer): DropPath()\n",
      "          )\n",
      "        )\n",
      "      )\n",
      "      (downsample): PatchMerging(\n",
      "        (adap_padding): AdaptivePadding()\n",
      "        (sampler): Unfold(kernel_size=(2, 2), dilation=(1, 1), padding=(0, 0), stride=(2, 2))\n",
      "        (norm): LayerNorm((384,), eps=1e-05, elementwise_affine=True)\n",
      "        (reduction): Linear(in_features=384, out_features=192, bias=False)\n",
      "      )\n",
      "    )\n",
      "    (1): SwinBlockSequence(\n",
      "      (blocks): ModuleList(\n",
      "        (0-1): 2 x SwinBlock(\n",
      "          (norm1): LayerNorm((192,), eps=1e-05, elementwise_affine=True)\n",
      "          (attn): ShiftWindowMSA(\n",
      "            (w_msa): WindowMSA(\n",
      "              (qkv): Linear(in_features=192, out_features=576, bias=True)\n",
      "              (attn_drop): Dropout(p=0.0, inplace=False)\n",
      "              (proj): Linear(in_features=192, out_features=192, bias=True)\n",
      "              (proj_drop): Dropout(p=0.0, inplace=False)\n",
      "              (softmax): Softmax(dim=-1)\n",
      "            )\n",
      "            (drop): DropPath()\n",
      "          )\n",
      "          (norm2): LayerNorm((192,), eps=1e-05, elementwise_affine=True)\n",
      "          (ffn): FFN(\n",
      "            (activate): GELU()\n",
      "            (layers): Sequential(\n",
      "              (0): Sequential(\n",
      "                (0): Linear(in_features=192, out_features=768, bias=True)\n",
      "                (1): GELU()\n",
      "                (2): Dropout(p=0.0, inplace=False)\n",
      "              )\n",
      "              (1): Linear(in_features=768, out_features=192, bias=True)\n",
      "              (2): Dropout(p=0.0, inplace=False)\n",
      "            )\n",
      "            (dropout_layer): DropPath()\n",
      "          )\n",
      "        )\n",
      "      )\n",
      "      (downsample): PatchMerging(\n",
      "        (adap_padding): AdaptivePadding()\n",
      "        (sampler): Unfold(kernel_size=(2, 2), dilation=(1, 1), padding=(0, 0), stride=(2, 2))\n",
      "        (norm): LayerNorm((768,), eps=1e-05, elementwise_affine=True)\n",
      "        (reduction): Linear(in_features=768, out_features=384, bias=False)\n",
      "      )\n",
      "    )\n",
      "    (2): SwinBlockSequence(\n",
      "      (blocks): ModuleList(\n",
      "        (0-5): 6 x SwinBlock(\n",
      "          (norm1): LayerNorm((384,), eps=1e-05, elementwise_affine=True)\n",
      "          (attn): ShiftWindowMSA(\n",
      "            (w_msa): WindowMSA(\n",
      "              (qkv): Linear(in_features=384, out_features=1152, bias=True)\n",
      "              (attn_drop): Dropout(p=0.0, inplace=False)\n",
      "              (proj): Linear(in_features=384, out_features=384, bias=True)\n",
      "              (proj_drop): Dropout(p=0.0, inplace=False)\n",
      "              (softmax): Softmax(dim=-1)\n",
      "            )\n",
      "            (drop): DropPath()\n",
      "          )\n",
      "          (norm2): LayerNorm((384,), eps=1e-05, elementwise_affine=True)\n",
      "          (ffn): FFN(\n",
      "            (activate): GELU()\n",
      "            (layers): Sequential(\n",
      "              (0): Sequential(\n",
      "                (0): Linear(in_features=384, out_features=1536, bias=True)\n",
      "                (1): GELU()\n",
      "                (2): Dropout(p=0.0, inplace=False)\n",
      "              )\n",
      "              (1): Linear(in_features=1536, out_features=384, bias=True)\n",
      "              (2): Dropout(p=0.0, inplace=False)\n",
      "            )\n",
      "            (dropout_layer): DropPath()\n",
      "          )\n",
      "        )\n",
      "      )\n",
      "      (downsample): PatchMerging(\n",
      "        (adap_padding): AdaptivePadding()\n",
      "        (sampler): Unfold(kernel_size=(2, 2), dilation=(1, 1), padding=(0, 0), stride=(2, 2))\n",
      "        (norm): LayerNorm((1536,), eps=1e-05, elementwise_affine=True)\n",
      "        (reduction): Linear(in_features=1536, out_features=768, bias=False)\n",
      "      )\n",
      "    )\n",
      "    (3): SwinBlockSequence(\n",
      "      (blocks): ModuleList(\n",
      "        (0-1): 2 x SwinBlock(\n",
      "          (norm1): LayerNorm((768,), eps=1e-05, elementwise_affine=True)\n",
      "          (attn): ShiftWindowMSA(\n",
      "            (w_msa): WindowMSA(\n",
      "              (qkv): Linear(in_features=768, out_features=2304, bias=True)\n",
      "              (attn_drop): Dropout(p=0.0, inplace=False)\n",
      "              (proj): Linear(in_features=768, out_features=768, bias=True)\n",
      "              (proj_drop): Dropout(p=0.0, inplace=False)\n",
      "              (softmax): Softmax(dim=-1)\n",
      "            )\n",
      "            (drop): DropPath()\n",
      "          )\n",
      "          (norm2): LayerNorm((768,), eps=1e-05, elementwise_affine=True)\n",
      "          (ffn): FFN(\n",
      "            (activate): GELU()\n",
      "            (layers): Sequential(\n",
      "              (0): Sequential(\n",
      "                (0): Linear(in_features=768, out_features=3072, bias=True)\n",
      "                (1): GELU()\n",
      "                (2): Dropout(p=0.0, inplace=False)\n",
      "              )\n",
      "              (1): Linear(in_features=3072, out_features=768, bias=True)\n",
      "              (2): Dropout(p=0.0, inplace=False)\n",
      "            )\n",
      "            (dropout_layer): DropPath()\n",
      "          )\n",
      "        )\n",
      "      )\n",
      "    )\n",
      "  )\n",
      "  (norm0): LayerNorm((96,), eps=1e-05, elementwise_affine=True)\n",
      "  (norm1): LayerNorm((192,), eps=1e-05, elementwise_affine=True)\n",
      "  (norm2): LayerNorm((384,), eps=1e-05, elementwise_affine=True)\n",
      "  (norm3): LayerNorm((768,), eps=1e-05, elementwise_affine=True)\n",
      "  (avgpool): AdaptiveAvgPool2d(output_size=(1, 1))\n",
      "  (semantic_embed_w): ModuleList(\n",
      "    (0): Linear(in_features=2, out_features=192, bias=True)\n",
      "    (1): Linear(in_features=2, out_features=384, bias=True)\n",
      "    (2-3): 2 x Linear(in_features=2, out_features=768, bias=True)\n",
      "  )\n",
      "  (semantic_embed_b): ModuleList(\n",
      "    (0): Linear(in_features=2, out_features=192, bias=True)\n",
      "    (1): Linear(in_features=2, out_features=384, bias=True)\n",
      "    (2-3): 2 x Linear(in_features=2, out_features=768, bias=True)\n",
      "  )\n",
      "  (softplus): Softplus(beta=1, threshold=20)\n",
      ")\n"
     ]
    }
   ],
   "source": [
    "import torch\n",
    "from swin_transformer import swin_tiny_patch4_window7_224,swin_small_patch4_window7_224,swin_base_patch4_window7_224\n",
    "\n",
    "model_path = 'swin_tiny.pth'\n",
    "semantic_weight = 1.0\n",
    "\n",
    "swin = swin_tiny_patch4_window7_224(convert_weights=False, semantic_weight=semantic_weight)\n",
    "swin.init_weights(model_path)\n",
    "feat_dim = swin.num_features[-1]\n",
    "print(swin)"
   ]
  },
  {
   "cell_type": "code",
   "execution_count": 2,
   "metadata": {},
   "outputs": [
    {
     "data": {
      "text/plain": [
       "['match5-c2.avi', 'match5-c0.avi', 'match5-c1.avi', 'match5-c3.avi']"
      ]
     },
     "execution_count": 2,
     "metadata": {},
     "output_type": "execute_result"
    }
   ],
   "source": [
    "import os\n",
    "os.listdir(\"datasets/EPFL/videos/basketball\")"
   ]
  },
  {
   "cell_type": "code",
   "execution_count": 4,
   "metadata": {},
   "outputs": [
    {
     "data": {
      "text/plain": [
       "'match5-c2'"
      ]
     },
     "execution_count": 4,
     "metadata": {},
     "output_type": "execute_result"
    }
   ],
   "source": [
    "video = 'match5-c2.avi'\n",
    "video2 = video.replace('.avi', '')\n",
    "video2"
   ]
  },
  {
   "cell_type": "code",
   "execution_count": 1,
   "metadata": {},
   "outputs": [
    {
     "data": {
      "text/html": [
       "<div>\n",
       "<style scoped>\n",
       "    .dataframe tbody tr th:only-of-type {\n",
       "        vertical-align: middle;\n",
       "    }\n",
       "\n",
       "    .dataframe tbody tr th {\n",
       "        vertical-align: top;\n",
       "    }\n",
       "\n",
       "    .dataframe thead th {\n",
       "        text-align: right;\n",
       "    }\n",
       "</style>\n",
       "<table border=\"1\" class=\"dataframe\">\n",
       "  <thead>\n",
       "    <tr style=\"text-align: right;\">\n",
       "      <th></th>\n",
       "      <th>id</th>\n",
       "      <th>xmin</th>\n",
       "      <th>ymin</th>\n",
       "      <th>xmax</th>\n",
       "      <th>ymax</th>\n",
       "      <th>frame</th>\n",
       "      <th>lost</th>\n",
       "      <th>occluded</th>\n",
       "      <th>generated</th>\n",
       "      <th>label</th>\n",
       "    </tr>\n",
       "  </thead>\n",
       "  <tbody>\n",
       "    <tr>\n",
       "      <th>0</th>\n",
       "      <td>0</td>\n",
       "      <td>81</td>\n",
       "      <td>48</td>\n",
       "      <td>107</td>\n",
       "      <td>121</td>\n",
       "      <td>0</td>\n",
       "      <td>0</td>\n",
       "      <td>0</td>\n",
       "      <td>0</td>\n",
       "      <td>PERSON</td>\n",
       "    </tr>\n",
       "    <tr>\n",
       "      <th>1</th>\n",
       "      <td>0</td>\n",
       "      <td>80</td>\n",
       "      <td>48</td>\n",
       "      <td>106</td>\n",
       "      <td>121</td>\n",
       "      <td>1</td>\n",
       "      <td>0</td>\n",
       "      <td>0</td>\n",
       "      <td>1</td>\n",
       "      <td>PERSON</td>\n",
       "    </tr>\n",
       "    <tr>\n",
       "      <th>2</th>\n",
       "      <td>0</td>\n",
       "      <td>80</td>\n",
       "      <td>48</td>\n",
       "      <td>106</td>\n",
       "      <td>121</td>\n",
       "      <td>2</td>\n",
       "      <td>0</td>\n",
       "      <td>0</td>\n",
       "      <td>1</td>\n",
       "      <td>PERSON</td>\n",
       "    </tr>\n",
       "    <tr>\n",
       "      <th>3</th>\n",
       "      <td>0</td>\n",
       "      <td>80</td>\n",
       "      <td>48</td>\n",
       "      <td>106</td>\n",
       "      <td>121</td>\n",
       "      <td>3</td>\n",
       "      <td>0</td>\n",
       "      <td>0</td>\n",
       "      <td>1</td>\n",
       "      <td>PERSON</td>\n",
       "    </tr>\n",
       "    <tr>\n",
       "      <th>4</th>\n",
       "      <td>0</td>\n",
       "      <td>80</td>\n",
       "      <td>48</td>\n",
       "      <td>106</td>\n",
       "      <td>121</td>\n",
       "      <td>4</td>\n",
       "      <td>0</td>\n",
       "      <td>0</td>\n",
       "      <td>1</td>\n",
       "      <td>PERSON</td>\n",
       "    </tr>\n",
       "  </tbody>\n",
       "</table>\n",
       "</div>"
      ],
      "text/plain": [
       "   id  xmin  ymin  xmax  ymax  frame  lost  occluded  generated   label\n",
       "0   0    81    48   107   121      0     0         0          0  PERSON\n",
       "1   0    80    48   106   121      1     0         0          1  PERSON\n",
       "2   0    80    48   106   121      2     0         0          1  PERSON\n",
       "3   0    80    48   106   121      3     0         0          1  PERSON\n",
       "4   0    80    48   106   121      4     0         0          1  PERSON"
      ]
     },
     "execution_count": 1,
     "metadata": {},
     "output_type": "execute_result"
    }
   ],
   "source": [
    "import pandas as pd\n",
    "\n",
    "COL_NAMES_EPFL = ('id', 'xmin', 'ymin', 'xmax', 'ymax', 'frame', 'lost', 'occluded', 'generated','label')\n",
    "annotations_df = pd.read_csv(\"datasets/EPFL/annotations/basketball/match5-c0.txt\", sep=' ', names=COL_NAMES_EPFL)\n",
    "annotations_df = annotations_df[annotations_df.lost == 0]\n",
    "annotations_df.head()"
   ]
  },
  {
   "cell_type": "code",
   "execution_count": 2,
   "metadata": {},
   "outputs": [
    {
     "data": {
      "text/plain": [
       "array(['PERSON'], dtype=object)"
      ]
     },
     "execution_count": 2,
     "metadata": {},
     "output_type": "execute_result"
    }
   ],
   "source": [
    "annotations_df.label.unique()"
   ]
  },
  {
   "cell_type": "code",
   "execution_count": 3,
   "metadata": {},
   "outputs": [
    {
     "data": {
      "text/plain": [
       "(9367, 1042040)"
      ]
     },
     "execution_count": 3,
     "metadata": {},
     "output_type": "execute_result"
    }
   ],
   "source": [
    "annotations_df.frame.max(), annotations_df.size"
   ]
  },
  {
   "cell_type": "code",
   "execution_count": 4,
   "metadata": {},
   "outputs": [
    {
     "data": {
      "text/html": [
       "<div>\n",
       "<style scoped>\n",
       "    .dataframe tbody tr th:only-of-type {\n",
       "        vertical-align: middle;\n",
       "    }\n",
       "\n",
       "    .dataframe tbody tr th {\n",
       "        vertical-align: top;\n",
       "    }\n",
       "\n",
       "    .dataframe thead th {\n",
       "        text-align: right;\n",
       "    }\n",
       "</style>\n",
       "<table border=\"1\" class=\"dataframe\">\n",
       "  <thead>\n",
       "    <tr style=\"text-align: right;\">\n",
       "      <th></th>\n",
       "      <th>id</th>\n",
       "      <th>xmin</th>\n",
       "      <th>ymin</th>\n",
       "      <th>xmax</th>\n",
       "      <th>ymax</th>\n",
       "      <th>frame</th>\n",
       "      <th>lost</th>\n",
       "      <th>occluded</th>\n",
       "      <th>generated</th>\n",
       "      <th>label</th>\n",
       "    </tr>\n",
       "  </thead>\n",
       "  <tbody>\n",
       "    <tr>\n",
       "      <th>9368</th>\n",
       "      <td>1</td>\n",
       "      <td>134</td>\n",
       "      <td>36</td>\n",
       "      <td>153</td>\n",
       "      <td>89</td>\n",
       "      <td>0</td>\n",
       "      <td>0</td>\n",
       "      <td>0</td>\n",
       "      <td>0</td>\n",
       "      <td>PERSON</td>\n",
       "    </tr>\n",
       "    <tr>\n",
       "      <th>9369</th>\n",
       "      <td>1</td>\n",
       "      <td>134</td>\n",
       "      <td>36</td>\n",
       "      <td>153</td>\n",
       "      <td>89</td>\n",
       "      <td>1</td>\n",
       "      <td>0</td>\n",
       "      <td>0</td>\n",
       "      <td>1</td>\n",
       "      <td>PERSON</td>\n",
       "    </tr>\n",
       "    <tr>\n",
       "      <th>9370</th>\n",
       "      <td>1</td>\n",
       "      <td>134</td>\n",
       "      <td>36</td>\n",
       "      <td>153</td>\n",
       "      <td>89</td>\n",
       "      <td>2</td>\n",
       "      <td>0</td>\n",
       "      <td>0</td>\n",
       "      <td>1</td>\n",
       "      <td>PERSON</td>\n",
       "    </tr>\n",
       "    <tr>\n",
       "      <th>9371</th>\n",
       "      <td>1</td>\n",
       "      <td>134</td>\n",
       "      <td>36</td>\n",
       "      <td>153</td>\n",
       "      <td>89</td>\n",
       "      <td>3</td>\n",
       "      <td>0</td>\n",
       "      <td>0</td>\n",
       "      <td>1</td>\n",
       "      <td>PERSON</td>\n",
       "    </tr>\n",
       "    <tr>\n",
       "      <th>9372</th>\n",
       "      <td>1</td>\n",
       "      <td>134</td>\n",
       "      <td>36</td>\n",
       "      <td>153</td>\n",
       "      <td>89</td>\n",
       "      <td>4</td>\n",
       "      <td>0</td>\n",
       "      <td>0</td>\n",
       "      <td>1</td>\n",
       "      <td>PERSON</td>\n",
       "    </tr>\n",
       "    <tr>\n",
       "      <th>...</th>\n",
       "      <td>...</td>\n",
       "      <td>...</td>\n",
       "      <td>...</td>\n",
       "      <td>...</td>\n",
       "      <td>...</td>\n",
       "      <td>...</td>\n",
       "      <td>...</td>\n",
       "      <td>...</td>\n",
       "      <td>...</td>\n",
       "      <td>...</td>\n",
       "    </tr>\n",
       "    <tr>\n",
       "      <th>18731</th>\n",
       "      <td>1</td>\n",
       "      <td>190</td>\n",
       "      <td>34</td>\n",
       "      <td>211</td>\n",
       "      <td>97</td>\n",
       "      <td>9363</td>\n",
       "      <td>0</td>\n",
       "      <td>0</td>\n",
       "      <td>1</td>\n",
       "      <td>PERSON</td>\n",
       "    </tr>\n",
       "    <tr>\n",
       "      <th>18732</th>\n",
       "      <td>1</td>\n",
       "      <td>189</td>\n",
       "      <td>34</td>\n",
       "      <td>210</td>\n",
       "      <td>97</td>\n",
       "      <td>9364</td>\n",
       "      <td>0</td>\n",
       "      <td>0</td>\n",
       "      <td>1</td>\n",
       "      <td>PERSON</td>\n",
       "    </tr>\n",
       "    <tr>\n",
       "      <th>18733</th>\n",
       "      <td>1</td>\n",
       "      <td>187</td>\n",
       "      <td>34</td>\n",
       "      <td>208</td>\n",
       "      <td>97</td>\n",
       "      <td>9365</td>\n",
       "      <td>0</td>\n",
       "      <td>0</td>\n",
       "      <td>1</td>\n",
       "      <td>PERSON</td>\n",
       "    </tr>\n",
       "    <tr>\n",
       "      <th>18734</th>\n",
       "      <td>1</td>\n",
       "      <td>186</td>\n",
       "      <td>34</td>\n",
       "      <td>207</td>\n",
       "      <td>97</td>\n",
       "      <td>9366</td>\n",
       "      <td>0</td>\n",
       "      <td>0</td>\n",
       "      <td>1</td>\n",
       "      <td>PERSON</td>\n",
       "    </tr>\n",
       "    <tr>\n",
       "      <th>18735</th>\n",
       "      <td>1</td>\n",
       "      <td>185</td>\n",
       "      <td>34</td>\n",
       "      <td>206</td>\n",
       "      <td>97</td>\n",
       "      <td>9367</td>\n",
       "      <td>0</td>\n",
       "      <td>0</td>\n",
       "      <td>0</td>\n",
       "      <td>PERSON</td>\n",
       "    </tr>\n",
       "  </tbody>\n",
       "</table>\n",
       "<p>9083 rows × 10 columns</p>\n",
       "</div>"
      ],
      "text/plain": [
       "       id  xmin  ymin  xmax  ymax  frame  lost  occluded  generated   label\n",
       "9368    1   134    36   153    89      0     0         0          0  PERSON\n",
       "9369    1   134    36   153    89      1     0         0          1  PERSON\n",
       "9370    1   134    36   153    89      2     0         0          1  PERSON\n",
       "9371    1   134    36   153    89      3     0         0          1  PERSON\n",
       "9372    1   134    36   153    89      4     0         0          1  PERSON\n",
       "...    ..   ...   ...   ...   ...    ...   ...       ...        ...     ...\n",
       "18731   1   190    34   211    97   9363     0         0          1  PERSON\n",
       "18732   1   189    34   210    97   9364     0         0          1  PERSON\n",
       "18733   1   187    34   208    97   9365     0         0          1  PERSON\n",
       "18734   1   186    34   207    97   9366     0         0          1  PERSON\n",
       "18735   1   185    34   206    97   9367     0         0          0  PERSON\n",
       "\n",
       "[9083 rows x 10 columns]"
      ]
     },
     "execution_count": 4,
     "metadata": {},
     "output_type": "execute_result"
    }
   ],
   "source": [
    "annotations_df[(annotations_df.id == 1) & (annotations_df.lost == 0)]"
   ]
  },
  {
   "cell_type": "code",
   "execution_count": 5,
   "metadata": {},
   "outputs": [
    {
     "data": {
      "text/html": [
       "<div>\n",
       "<style scoped>\n",
       "    .dataframe tbody tr th:only-of-type {\n",
       "        vertical-align: middle;\n",
       "    }\n",
       "\n",
       "    .dataframe tbody tr th {\n",
       "        vertical-align: top;\n",
       "    }\n",
       "\n",
       "    .dataframe thead th {\n",
       "        text-align: right;\n",
       "    }\n",
       "</style>\n",
       "<table border=\"1\" class=\"dataframe\">\n",
       "  <thead>\n",
       "    <tr style=\"text-align: right;\">\n",
       "      <th></th>\n",
       "      <th>id</th>\n",
       "      <th>xmin</th>\n",
       "      <th>ymin</th>\n",
       "      <th>xmax</th>\n",
       "      <th>ymax</th>\n",
       "      <th>frame</th>\n",
       "      <th>lost</th>\n",
       "      <th>occluded</th>\n",
       "      <th>generated</th>\n",
       "      <th>label</th>\n",
       "    </tr>\n",
       "  </thead>\n",
       "  <tbody>\n",
       "    <tr>\n",
       "      <th>18736</th>\n",
       "      <td>2</td>\n",
       "      <td>146</td>\n",
       "      <td>33</td>\n",
       "      <td>170</td>\n",
       "      <td>104</td>\n",
       "      <td>0</td>\n",
       "      <td>0</td>\n",
       "      <td>0</td>\n",
       "      <td>0</td>\n",
       "      <td>PERSON</td>\n",
       "    </tr>\n",
       "    <tr>\n",
       "      <th>37472</th>\n",
       "      <td>4</td>\n",
       "      <td>234</td>\n",
       "      <td>48</td>\n",
       "      <td>272</td>\n",
       "      <td>143</td>\n",
       "      <td>0</td>\n",
       "      <td>0</td>\n",
       "      <td>0</td>\n",
       "      <td>0</td>\n",
       "      <td>PERSON</td>\n",
       "    </tr>\n",
       "    <tr>\n",
       "      <th>28104</th>\n",
       "      <td>3</td>\n",
       "      <td>157</td>\n",
       "      <td>40</td>\n",
       "      <td>177</td>\n",
       "      <td>108</td>\n",
       "      <td>0</td>\n",
       "      <td>0</td>\n",
       "      <td>0</td>\n",
       "      <td>0</td>\n",
       "      <td>PERSON</td>\n",
       "    </tr>\n",
       "    <tr>\n",
       "      <th>9368</th>\n",
       "      <td>1</td>\n",
       "      <td>134</td>\n",
       "      <td>36</td>\n",
       "      <td>153</td>\n",
       "      <td>89</td>\n",
       "      <td>0</td>\n",
       "      <td>0</td>\n",
       "      <td>0</td>\n",
       "      <td>0</td>\n",
       "      <td>PERSON</td>\n",
       "    </tr>\n",
       "    <tr>\n",
       "      <th>56208</th>\n",
       "      <td>6</td>\n",
       "      <td>226</td>\n",
       "      <td>33</td>\n",
       "      <td>239</td>\n",
       "      <td>71</td>\n",
       "      <td>0</td>\n",
       "      <td>0</td>\n",
       "      <td>0</td>\n",
       "      <td>0</td>\n",
       "      <td>PERSON</td>\n",
       "    </tr>\n",
       "  </tbody>\n",
       "</table>\n",
       "</div>"
      ],
      "text/plain": [
       "       id  xmin  ymin  xmax  ymax  frame  lost  occluded  generated   label\n",
       "18736   2   146    33   170   104      0     0         0          0  PERSON\n",
       "37472   4   234    48   272   143      0     0         0          0  PERSON\n",
       "28104   3   157    40   177   108      0     0         0          0  PERSON\n",
       "9368    1   134    36   153    89      0     0         0          0  PERSON\n",
       "56208   6   226    33   239    71      0     0         0          0  PERSON"
      ]
     },
     "execution_count": 5,
     "metadata": {},
     "output_type": "execute_result"
    }
   ],
   "source": [
    "annotations_df = annotations_df.sort_values(by=\"frame\")\n",
    "annotations_df.head()"
   ]
  },
  {
   "attachments": {},
   "cell_type": "markdown",
   "metadata": {},
   "source": [
    "## Exploring the connectivity of annotations"
   ]
  },
  {
   "cell_type": "code",
   "execution_count": 10,
   "metadata": {},
   "outputs": [
    {
     "name": "stdout",
     "output_type": "stream",
     "text": [
      "tensor([   0,    0,    0,  ..., 9367, 9367, 9367])\n"
     ]
    }
   ],
   "source": [
    "import torch\n",
    "import numpy as np\n",
    "\n",
    "frame_num = torch.from_numpy(annotations_df.frame.values)\n",
    "max_frame_dist = 'max'\n",
    "use_cuda=False\n",
    "print(frame_num)"
   ]
  },
  {
   "cell_type": "code",
   "execution_count": 11,
   "metadata": {},
   "outputs": [
    {
     "data": {
      "text/plain": [
       "tensor([     8,     16,     24,  ..., 104168, 104180, 104192])"
      ]
     },
     "execution_count": 11,
     "metadata": {},
     "output_type": "execute_result"
    }
   ],
   "source": [
    "\"\"\"\n",
    "Determines the valid connections among nodes (detections) according to their time distance. Valid connections\n",
    "are those for which nodes are not in the same frame, and their time dist is not greater than max_frame_dist.\n",
    "(Does the same as the function above at similar speed but does not require as much memory)\n",
    "Args:\n",
    "    frame_num: np.array with shape (num_nodes,), indicating the frame number of each node.\n",
    "    max_frame_dist: maximum distance allowed among detections (in number of frames) (if 'max', it is ignored)\n",
    "    use_cuda: bool indicates if operation must be performed in GPU\n",
    "    return_undirected: bool, determines whether both (i,j) and (j, i) is returned for each edge\n",
    "\n",
    "Returns:\n",
    "    torch.Tensor with shape (2, num_edges) corresponding to the valid edges\n",
    "\n",
    "\"\"\"\n",
    "assert isinstance(max_frame_dist, (int, np.uint)) or max_frame_dist == 'max'\n",
    "\n",
    "device = torch.device(\"cuda\" if torch.cuda.is_available() and use_cuda else \"cpu\")\n",
    "frame_num = frame_num.to(device)\n",
    "assert (torch.sort(frame_num)[0] == frame_num).all(), \"Detections are NOT sorted by timestamp. Graph was not created properly!\"\n",
    "\n",
    "changepoints = torch.where(frame_num[1:] != frame_num[:-1])[0] + 1\n",
    "changepoints\n"
   ]
  },
  {
   "cell_type": "code",
   "execution_count": 12,
   "metadata": {},
   "outputs": [
    {
     "name": "stdout",
     "output_type": "stream",
     "text": [
      "tensor([     8,     16,     24,  ..., 104180, 104192, 104204]) tensor([     0,      1,      2,  ..., 104201, 104202, 104203])\n"
     ]
    }
   ],
   "source": [
    "changepoints = torch.cat((changepoints, torch.as_tensor([frame_num.shape[0]]).to(changepoints.device)))\n",
    "all_det_ixs = torch.arange(frame_num.shape[0], device=frame_num.device)\n",
    "print(changepoints, all_det_ixs)"
   ]
  },
  {
   "cell_type": "code",
   "execution_count": null,
   "metadata": {},
   "outputs": [],
   "source": [
    "edge_ixs = []\n",
    "for start_frame_ix, end_frame_ix in zip(changepoints[:-1], changepoints[1:]):\n",
    "    curr_frame_ixs = all_det_ixs[start_frame_ix: end_frame_ix]\n",
    "    curr_frame_num = frame_num[curr_frame_ixs[0]]\n",
    "\n",
    "    # Update past frames\n",
    "    if max_frame_dist != 'max':\n",
    "        past_frames_ixs = torch.where(torch.abs(frame_num[:start_frame_ix] - curr_frame_num) <= max_frame_dist)[0]\n",
    "\n",
    "    else:\n",
    "        past_frames_ixs = all_det_ixs[:start_frame_ix]\n",
    "\n",
    "    edge_ixs.append(torch.cartesian_prod(past_frames_ixs, curr_frame_ixs))"
   ]
  },
  {
   "cell_type": "code",
   "execution_count": null,
   "metadata": {},
   "outputs": [],
   "source": [
    "edge_ixs = torch.cat(edge_ixs).T"
   ]
  },
  {
   "cell_type": "code",
   "execution_count": null,
   "metadata": {},
   "outputs": [],
   "source": []
  }
 ],
 "metadata": {
  "kernelspec": {
   "display_name": "Python 3",
   "language": "python",
   "name": "python3"
  },
  "language_info": {
   "codemirror_mode": {
    "name": "ipython",
    "version": 3
   },
   "file_extension": ".py",
   "mimetype": "text/x-python",
   "name": "python",
   "nbconvert_exporter": "python",
   "pygments_lexer": "ipython3",
   "version": "3.9.18"
  },
  "orig_nbformat": 4
 },
 "nbformat": 4,
 "nbformat_minor": 2
}
